{
 "cells": [
  {
   "cell_type": "code",
   "execution_count": 367,
   "id": "0c92deee-81ff-4c90-8e9d-0de29c366f88",
   "metadata": {},
   "outputs": [
    {
     "data": {
      "text/html": [
       "<div>\n",
       "<style scoped>\n",
       "    .dataframe tbody tr th:only-of-type {\n",
       "        vertical-align: middle;\n",
       "    }\n",
       "\n",
       "    .dataframe tbody tr th {\n",
       "        vertical-align: top;\n",
       "    }\n",
       "\n",
       "    .dataframe thead th {\n",
       "        text-align: right;\n",
       "    }\n",
       "</style>\n",
       "<table border=\"1\" class=\"dataframe\">\n",
       "  <thead>\n",
       "    <tr style=\"text-align: right;\">\n",
       "      <th></th>\n",
       "      <th>ID</th>\n",
       "      <th>Warehouse_block</th>\n",
       "      <th>Mode_of_Shipment</th>\n",
       "      <th>Customer_care_calls</th>\n",
       "      <th>Customer_rating</th>\n",
       "      <th>Cost_of_the_Product</th>\n",
       "      <th>Prior_purchases</th>\n",
       "      <th>Product_importance</th>\n",
       "      <th>Gender</th>\n",
       "      <th>Discount_offered</th>\n",
       "      <th>Weight_in_gms</th>\n",
       "      <th>Reached.on.Time_Y.N</th>\n",
       "    </tr>\n",
       "  </thead>\n",
       "  <tbody>\n",
       "    <tr>\n",
       "      <th>0</th>\n",
       "      <td>6045</td>\n",
       "      <td>A</td>\n",
       "      <td>Flight</td>\n",
       "      <td>4</td>\n",
       "      <td>3</td>\n",
       "      <td>266.0</td>\n",
       "      <td>5</td>\n",
       "      <td>high</td>\n",
       "      <td>F</td>\n",
       "      <td>5</td>\n",
       "      <td>1590</td>\n",
       "      <td>0</td>\n",
       "    </tr>\n",
       "    <tr>\n",
       "      <th>1</th>\n",
       "      <td>44</td>\n",
       "      <td>F</td>\n",
       "      <td>Ship</td>\n",
       "      <td>3</td>\n",
       "      <td>1</td>\n",
       "      <td>174.0</td>\n",
       "      <td>2</td>\n",
       "      <td>low</td>\n",
       "      <td>M</td>\n",
       "      <td>44</td>\n",
       "      <td>1556</td>\n",
       "      <td>1</td>\n",
       "    </tr>\n",
       "    <tr>\n",
       "      <th>2</th>\n",
       "      <td>7940</td>\n",
       "      <td>F</td>\n",
       "      <td>Road</td>\n",
       "      <td>4</td>\n",
       "      <td>1</td>\n",
       "      <td>154.0</td>\n",
       "      <td>10</td>\n",
       "      <td>high</td>\n",
       "      <td>M</td>\n",
       "      <td>10</td>\n",
       "      <td>5674</td>\n",
       "      <td>1</td>\n",
       "    </tr>\n",
       "    <tr>\n",
       "      <th>3</th>\n",
       "      <td>1596</td>\n",
       "      <td>F</td>\n",
       "      <td>Ship</td>\n",
       "      <td>4</td>\n",
       "      <td>3</td>\n",
       "      <td>158.0</td>\n",
       "      <td>3</td>\n",
       "      <td>medium</td>\n",
       "      <td>F</td>\n",
       "      <td>27</td>\n",
       "      <td>1207</td>\n",
       "      <td>1</td>\n",
       "    </tr>\n",
       "    <tr>\n",
       "      <th>4</th>\n",
       "      <td>4395</td>\n",
       "      <td>A</td>\n",
       "      <td>Flight</td>\n",
       "      <td>5</td>\n",
       "      <td>3</td>\n",
       "      <td>175.0</td>\n",
       "      <td>3</td>\n",
       "      <td>low</td>\n",
       "      <td>M</td>\n",
       "      <td>7</td>\n",
       "      <td>4833</td>\n",
       "      <td>1</td>\n",
       "    </tr>\n",
       "    <tr>\n",
       "      <th>...</th>\n",
       "      <td>...</td>\n",
       "      <td>...</td>\n",
       "      <td>...</td>\n",
       "      <td>...</td>\n",
       "      <td>...</td>\n",
       "      <td>...</td>\n",
       "      <td>...</td>\n",
       "      <td>...</td>\n",
       "      <td>...</td>\n",
       "      <td>...</td>\n",
       "      <td>...</td>\n",
       "      <td>...</td>\n",
       "    </tr>\n",
       "    <tr>\n",
       "      <th>6593</th>\n",
       "      <td>8610</td>\n",
       "      <td>F</td>\n",
       "      <td>Road</td>\n",
       "      <td>5</td>\n",
       "      <td>2</td>\n",
       "      <td>221.0</td>\n",
       "      <td>6</td>\n",
       "      <td>medium</td>\n",
       "      <td>M</td>\n",
       "      <td>4</td>\n",
       "      <td>1952</td>\n",
       "      <td>1</td>\n",
       "    </tr>\n",
       "    <tr>\n",
       "      <th>6594</th>\n",
       "      <td>3390</td>\n",
       "      <td>F</td>\n",
       "      <td>Ship</td>\n",
       "      <td>4</td>\n",
       "      <td>5</td>\n",
       "      <td>256.0</td>\n",
       "      <td>3</td>\n",
       "      <td>medium</td>\n",
       "      <td>M</td>\n",
       "      <td>10</td>\n",
       "      <td>4504</td>\n",
       "      <td>1</td>\n",
       "    </tr>\n",
       "    <tr>\n",
       "      <th>6595</th>\n",
       "      <td>5150</td>\n",
       "      <td>F</td>\n",
       "      <td>Ship</td>\n",
       "      <td>3</td>\n",
       "      <td>1</td>\n",
       "      <td>217.0</td>\n",
       "      <td>4</td>\n",
       "      <td>medium</td>\n",
       "      <td>F</td>\n",
       "      <td>1</td>\n",
       "      <td>5761</td>\n",
       "      <td>1</td>\n",
       "    </tr>\n",
       "    <tr>\n",
       "      <th>6596</th>\n",
       "      <td>3950</td>\n",
       "      <td>F</td>\n",
       "      <td>Road</td>\n",
       "      <td>4</td>\n",
       "      <td>5</td>\n",
       "      <td>174.0</td>\n",
       "      <td>3</td>\n",
       "      <td>medium</td>\n",
       "      <td>F</td>\n",
       "      <td>8</td>\n",
       "      <td>5576</td>\n",
       "      <td>0</td>\n",
       "    </tr>\n",
       "    <tr>\n",
       "      <th>6597</th>\n",
       "      <td>5969</td>\n",
       "      <td>C</td>\n",
       "      <td>Ship</td>\n",
       "      <td>6</td>\n",
       "      <td>2</td>\n",
       "      <td>257.0</td>\n",
       "      <td>4</td>\n",
       "      <td>medium</td>\n",
       "      <td>M</td>\n",
       "      <td>1</td>\n",
       "      <td>1513</td>\n",
       "      <td>0</td>\n",
       "    </tr>\n",
       "  </tbody>\n",
       "</table>\n",
       "<p>6598 rows × 12 columns</p>\n",
       "</div>"
      ],
      "text/plain": [
       "        ID Warehouse_block Mode_of_Shipment Customer_care_calls  \\\n",
       "0     6045               A           Flight                   4   \n",
       "1       44               F             Ship                   3   \n",
       "2     7940               F             Road                   4   \n",
       "3     1596               F             Ship                   4   \n",
       "4     4395               A           Flight                   5   \n",
       "...    ...             ...              ...                 ...   \n",
       "6593  8610               F             Road                   5   \n",
       "6594  3390               F             Ship                   4   \n",
       "6595  5150               F             Ship                   3   \n",
       "6596  3950               F             Road                   4   \n",
       "6597  5969               C             Ship                   6   \n",
       "\n",
       "      Customer_rating  Cost_of_the_Product  Prior_purchases  \\\n",
       "0                   3                266.0                5   \n",
       "1                   1                174.0                2   \n",
       "2                   1                154.0               10   \n",
       "3                   3                158.0                3   \n",
       "4                   3                175.0                3   \n",
       "...               ...                  ...              ...   \n",
       "6593                2                221.0                6   \n",
       "6594                5                256.0                3   \n",
       "6595                1                217.0                4   \n",
       "6596                5                174.0                3   \n",
       "6597                2                257.0                4   \n",
       "\n",
       "     Product_importance Gender  Discount_offered  Weight_in_gms  \\\n",
       "0                  high      F                 5           1590   \n",
       "1                   low      M                44           1556   \n",
       "2                  high      M                10           5674   \n",
       "3                medium      F                27           1207   \n",
       "4                   low      M                 7           4833   \n",
       "...                 ...    ...               ...            ...   \n",
       "6593             medium      M                 4           1952   \n",
       "6594             medium      M                10           4504   \n",
       "6595             medium      F                 1           5761   \n",
       "6596             medium      F                 8           5576   \n",
       "6597             medium      M                 1           1513   \n",
       "\n",
       "      Reached.on.Time_Y.N  \n",
       "0                       0  \n",
       "1                       1  \n",
       "2                       1  \n",
       "3                       1  \n",
       "4                       1  \n",
       "...                   ...  \n",
       "6593                    1  \n",
       "6594                    1  \n",
       "6595                    1  \n",
       "6596                    0  \n",
       "6597                    0  \n",
       "\n",
       "[6598 rows x 12 columns]"
      ]
     },
     "metadata": {},
     "output_type": "display_data"
    },
    {
     "name": "stdout",
     "output_type": "stream",
     "text": [
      "(6598, 12)\n"
     ]
    },
    {
     "data": {
      "text/html": [
       "<div>\n",
       "<style scoped>\n",
       "    .dataframe tbody tr th:only-of-type {\n",
       "        vertical-align: middle;\n",
       "    }\n",
       "\n",
       "    .dataframe tbody tr th {\n",
       "        vertical-align: top;\n",
       "    }\n",
       "\n",
       "    .dataframe thead th {\n",
       "        text-align: right;\n",
       "    }\n",
       "</style>\n",
       "<table border=\"1\" class=\"dataframe\">\n",
       "  <thead>\n",
       "    <tr style=\"text-align: right;\">\n",
       "      <th></th>\n",
       "      <th>ID</th>\n",
       "      <th>Warehouse_block</th>\n",
       "      <th>Mode_of_Shipment</th>\n",
       "      <th>Customer_care_calls</th>\n",
       "      <th>Customer_rating</th>\n",
       "      <th>Cost_of_the_Product</th>\n",
       "      <th>Prior_purchases</th>\n",
       "      <th>Product_importance</th>\n",
       "      <th>Gender</th>\n",
       "      <th>Discount_offered</th>\n",
       "      <th>Weight_in_gms</th>\n",
       "    </tr>\n",
       "  </thead>\n",
       "  <tbody>\n",
       "    <tr>\n",
       "      <th>0</th>\n",
       "      <td>6811</td>\n",
       "      <td>D</td>\n",
       "      <td>Ship</td>\n",
       "      <td>5</td>\n",
       "      <td>2</td>\n",
       "      <td>259</td>\n",
       "      <td>5</td>\n",
       "      <td>low</td>\n",
       "      <td>F</td>\n",
       "      <td>7.0</td>\n",
       "      <td>1032</td>\n",
       "    </tr>\n",
       "    <tr>\n",
       "      <th>1</th>\n",
       "      <td>4320</td>\n",
       "      <td>F</td>\n",
       "      <td>Ship</td>\n",
       "      <td>3</td>\n",
       "      <td>5</td>\n",
       "      <td>133</td>\n",
       "      <td>3</td>\n",
       "      <td>medium</td>\n",
       "      <td>F</td>\n",
       "      <td>4.0</td>\n",
       "      <td>5902</td>\n",
       "    </tr>\n",
       "    <tr>\n",
       "      <th>2</th>\n",
       "      <td>5732</td>\n",
       "      <td>F</td>\n",
       "      <td>Road</td>\n",
       "      <td>3</td>\n",
       "      <td>4</td>\n",
       "      <td>191</td>\n",
       "      <td>5</td>\n",
       "      <td>medium</td>\n",
       "      <td>F</td>\n",
       "      <td>4.0</td>\n",
       "      <td>4243</td>\n",
       "    </tr>\n",
       "    <tr>\n",
       "      <th>3</th>\n",
       "      <td>7429</td>\n",
       "      <td>D</td>\n",
       "      <td>Ship</td>\n",
       "      <td>4</td>\n",
       "      <td>2</td>\n",
       "      <td>221</td>\n",
       "      <td>3</td>\n",
       "      <td>low</td>\n",
       "      <td>M</td>\n",
       "      <td>10.0</td>\n",
       "      <td>4126</td>\n",
       "    </tr>\n",
       "    <tr>\n",
       "      <th>4</th>\n",
       "      <td>2191</td>\n",
       "      <td>D</td>\n",
       "      <td>Flight</td>\n",
       "      <td>4</td>\n",
       "      <td>5</td>\n",
       "      <td>230</td>\n",
       "      <td>2</td>\n",
       "      <td>low</td>\n",
       "      <td>F</td>\n",
       "      <td>38.0</td>\n",
       "      <td>2890</td>\n",
       "    </tr>\n",
       "    <tr>\n",
       "      <th>...</th>\n",
       "      <td>...</td>\n",
       "      <td>...</td>\n",
       "      <td>...</td>\n",
       "      <td>...</td>\n",
       "      <td>...</td>\n",
       "      <td>...</td>\n",
       "      <td>...</td>\n",
       "      <td>...</td>\n",
       "      <td>...</td>\n",
       "      <td>...</td>\n",
       "      <td>...</td>\n",
       "    </tr>\n",
       "    <tr>\n",
       "      <th>4396</th>\n",
       "      <td>2610</td>\n",
       "      <td>F</td>\n",
       "      <td>Flight</td>\n",
       "      <td>4</td>\n",
       "      <td>1</td>\n",
       "      <td>157</td>\n",
       "      <td>3</td>\n",
       "      <td>medium</td>\n",
       "      <td>M</td>\n",
       "      <td>31.0</td>\n",
       "      <td>1712</td>\n",
       "    </tr>\n",
       "    <tr>\n",
       "      <th>4397</th>\n",
       "      <td>3406</td>\n",
       "      <td>B</td>\n",
       "      <td>Road</td>\n",
       "      <td>3</td>\n",
       "      <td>5</td>\n",
       "      <td>139</td>\n",
       "      <td>2</td>\n",
       "      <td>medium</td>\n",
       "      <td>M</td>\n",
       "      <td>7.0</td>\n",
       "      <td>5536</td>\n",
       "    </tr>\n",
       "    <tr>\n",
       "      <th>4398</th>\n",
       "      <td>10395</td>\n",
       "      <td>A</td>\n",
       "      <td>Road</td>\n",
       "      <td>4</td>\n",
       "      <td>1</td>\n",
       "      <td>170</td>\n",
       "      <td>10</td>\n",
       "      <td>medium</td>\n",
       "      <td>F</td>\n",
       "      <td>3.0</td>\n",
       "      <td>5211</td>\n",
       "    </tr>\n",
       "    <tr>\n",
       "      <th>4399</th>\n",
       "      <td>3646</td>\n",
       "      <td>B</td>\n",
       "      <td>Ship</td>\n",
       "      <td>3</td>\n",
       "      <td>1</td>\n",
       "      <td>244</td>\n",
       "      <td>3</td>\n",
       "      <td>medium</td>\n",
       "      <td>F</td>\n",
       "      <td>1.0</td>\n",
       "      <td>5695</td>\n",
       "    </tr>\n",
       "    <tr>\n",
       "      <th>4400</th>\n",
       "      <td>573</td>\n",
       "      <td>A</td>\n",
       "      <td>Ship</td>\n",
       "      <td>3</td>\n",
       "      <td>4</td>\n",
       "      <td>234</td>\n",
       "      <td>2</td>\n",
       "      <td>medium</td>\n",
       "      <td>M</td>\n",
       "      <td>46.0</td>\n",
       "      <td>3108</td>\n",
       "    </tr>\n",
       "  </tbody>\n",
       "</table>\n",
       "<p>4401 rows × 11 columns</p>\n",
       "</div>"
      ],
      "text/plain": [
       "         ID Warehouse_block Mode_of_Shipment Customer_care_calls  \\\n",
       "0      6811               D             Ship                   5   \n",
       "1      4320               F             Ship                   3   \n",
       "2      5732               F             Road                   3   \n",
       "3      7429               D             Ship                   4   \n",
       "4      2191               D           Flight                   4   \n",
       "...     ...             ...              ...                 ...   \n",
       "4396   2610               F           Flight                   4   \n",
       "4397   3406               B             Road                   3   \n",
       "4398  10395               A             Road                   4   \n",
       "4399   3646               B             Ship                   3   \n",
       "4400    573               A             Ship                   3   \n",
       "\n",
       "      Customer_rating  Cost_of_the_Product  Prior_purchases  \\\n",
       "0                   2                  259                5   \n",
       "1                   5                  133                3   \n",
       "2                   4                  191                5   \n",
       "3                   2                  221                3   \n",
       "4                   5                  230                2   \n",
       "...               ...                  ...              ...   \n",
       "4396                1                  157                3   \n",
       "4397                5                  139                2   \n",
       "4398                1                  170               10   \n",
       "4399                1                  244                3   \n",
       "4400                4                  234                2   \n",
       "\n",
       "     Product_importance Gender  Discount_offered  Weight_in_gms  \n",
       "0                   low      F               7.0           1032  \n",
       "1                medium      F               4.0           5902  \n",
       "2                medium      F               4.0           4243  \n",
       "3                   low      M              10.0           4126  \n",
       "4                   low      F              38.0           2890  \n",
       "...                 ...    ...               ...            ...  \n",
       "4396             medium      M              31.0           1712  \n",
       "4397             medium      M               7.0           5536  \n",
       "4398             medium      F               3.0           5211  \n",
       "4399             medium      F               1.0           5695  \n",
       "4400             medium      M              46.0           3108  \n",
       "\n",
       "[4401 rows x 11 columns]"
      ]
     },
     "metadata": {},
     "output_type": "display_data"
    },
    {
     "name": "stdout",
     "output_type": "stream",
     "text": [
      "(4401, 11)\n"
     ]
    }
   ],
   "source": [
    "import pandas as pd\n",
    "train = pd.read_csv('https://raw.githubusercontent.com/Datamanim/datarepo/main/data/2_train.csv')\n",
    "test = pd.read_csv('https://raw.githubusercontent.com/Datamanim/datarepo/main/data/2_test.csv')\n",
    "\n",
    "display(train)\n",
    "print(train.shape)\n",
    "display(test)\n",
    "print(test.shape)"
   ]
  },
  {
   "cell_type": "code",
   "execution_count": 369,
   "id": "32b1c9f2-4f9e-4e14-96cd-687312280afa",
   "metadata": {},
   "outputs": [
    {
     "data": {
      "text/plain": [
       "ID                     0\n",
       "Warehouse_block        0\n",
       "Mode_of_Shipment       5\n",
       "Customer_care_calls    0\n",
       "Customer_rating        0\n",
       "Cost_of_the_Product    3\n",
       "Prior_purchases        0\n",
       "Product_importance     0\n",
       "Gender                 0\n",
       "Discount_offered       0\n",
       "Weight_in_gms          0\n",
       "Reached.on.Time_Y.N    0\n",
       "dtype: int64"
      ]
     },
     "execution_count": 369,
     "metadata": {},
     "output_type": "execute_result"
    }
   ],
   "source": [
    "#eda\n",
    "train.isnull().sum()"
   ]
  },
  {
   "cell_type": "code",
   "execution_count": 15,
   "id": "d09c41fd-0090-4452-b98d-ab52b1ad9620",
   "metadata": {},
   "outputs": [
    {
     "name": "stdout",
     "output_type": "stream",
     "text": [
      "<class 'pandas.core.frame.DataFrame'>\n",
      "RangeIndex: 6598 entries, 0 to 6597\n",
      "Data columns (total 12 columns):\n",
      " #   Column               Non-Null Count  Dtype  \n",
      "---  ------               --------------  -----  \n",
      " 0   ID                   6598 non-null   int64  \n",
      " 1   Warehouse_block      6598 non-null   object \n",
      " 2   Mode_of_Shipment     6593 non-null   object \n",
      " 3   Customer_care_calls  6598 non-null   object \n",
      " 4   Customer_rating      6598 non-null   int64  \n",
      " 5   Cost_of_the_Product  6595 non-null   float64\n",
      " 6   Prior_purchases      6598 non-null   int64  \n",
      " 7   Product_importance   6598 non-null   object \n",
      " 8   Gender               6598 non-null   object \n",
      " 9   Discount_offered     6598 non-null   int64  \n",
      " 10  Weight_in_gms        6598 non-null   int64  \n",
      " 11  Reached.on.Time_Y.N  6598 non-null   int64  \n",
      "dtypes: float64(1), int64(6), object(5)\n",
      "memory usage: 618.7+ KB\n"
     ]
    }
   ],
   "source": [
    "train.info()"
   ]
  },
  {
   "cell_type": "code",
   "execution_count": 19,
   "id": "8d8b1b3e-2f52-4261-9e28-e86491360fd9",
   "metadata": {},
   "outputs": [
    {
     "data": {
      "text/plain": [
       "Index(['Warehouse_block', 'Mode_of_Shipment', 'Customer_care_calls',\n",
       "       'Product_importance', 'Gender'],\n",
       "      dtype='object')"
      ]
     },
     "execution_count": 19,
     "metadata": {},
     "output_type": "execute_result"
    }
   ],
   "source": [
    "train.select_dtypes(include='object').columns"
   ]
  },
  {
   "cell_type": "code",
   "execution_count": 25,
   "id": "ac1d5afd-6520-4810-a13e-2ae090a616b3",
   "metadata": {},
   "outputs": [
    {
     "data": {
      "text/plain": [
       "array(['A', 'F', 'C', 'B', 'D'], dtype=object)"
      ]
     },
     "execution_count": 25,
     "metadata": {},
     "output_type": "execute_result"
    }
   ],
   "source": [
    "train['Warehouse_block'].unique()"
   ]
  },
  {
   "cell_type": "code",
   "execution_count": 29,
   "id": "645a3d5f-17ac-4ded-a73d-e4af03a16e49",
   "metadata": {},
   "outputs": [
    {
     "data": {
      "text/plain": [
       "array(['Flight', 'Ship', 'Road', nan], dtype=object)"
      ]
     },
     "execution_count": 29,
     "metadata": {},
     "output_type": "execute_result"
    }
   ],
   "source": [
    "train['Mode_of_Shipment'].unique()"
   ]
  },
  {
   "cell_type": "code",
   "execution_count": 35,
   "id": "f50d3152-dd26-47bf-83ba-e76e697dd27e",
   "metadata": {},
   "outputs": [
    {
     "data": {
      "text/plain": [
       "array(['4', '3', '5', '6', '2', '$7'], dtype=object)"
      ]
     },
     "execution_count": 35,
     "metadata": {},
     "output_type": "execute_result"
    }
   ],
   "source": [
    "train['Customer_care_calls'].unique()"
   ]
  },
  {
   "cell_type": "code",
   "execution_count": 39,
   "id": "2b02be04-72fe-4a10-ba27-b49d7226714f",
   "metadata": {},
   "outputs": [
    {
     "data": {
      "text/plain": [
       "array(['high', 'low', 'medium'], dtype=object)"
      ]
     },
     "execution_count": 39,
     "metadata": {},
     "output_type": "execute_result"
    }
   ],
   "source": [
    "train['Product_importance'].unique()"
   ]
  },
  {
   "cell_type": "code",
   "execution_count": 43,
   "id": "76e1de1e-acd7-4984-b938-6108e89edd1a",
   "metadata": {},
   "outputs": [
    {
     "data": {
      "text/plain": [
       "array(['F', 'M'], dtype=object)"
      ]
     },
     "execution_count": 43,
     "metadata": {},
     "output_type": "execute_result"
    }
   ],
   "source": [
    "train['Gender'].unique()"
   ]
  },
  {
   "cell_type": "code",
   "execution_count": 47,
   "id": "a76b04aa-3ec9-4526-a854-a5ce45cbc8d1",
   "metadata": {},
   "outputs": [
    {
     "data": {
      "text/plain": [
       "ID                     0\n",
       "Warehouse_block        0\n",
       "Mode_of_Shipment       5\n",
       "Customer_care_calls    0\n",
       "Customer_rating        0\n",
       "Cost_of_the_Product    3\n",
       "Prior_purchases        0\n",
       "Product_importance     0\n",
       "Gender                 0\n",
       "Discount_offered       0\n",
       "Weight_in_gms          0\n",
       "Reached.on.Time_Y.N    0\n",
       "dtype: int64"
      ]
     },
     "execution_count": 47,
     "metadata": {},
     "output_type": "execute_result"
    }
   ],
   "source": [
    "train.isnull().sum()"
   ]
  },
  {
   "cell_type": "code",
   "execution_count": 141,
   "id": "0d92e589-01ce-4f2f-a426-05634a364cf5",
   "metadata": {},
   "outputs": [
    {
     "name": "stdout",
     "output_type": "stream",
     "text": [
      "Warehouse_block\n",
      "F    2262\n",
      "B    1116\n",
      "A    1090\n",
      "D    1069\n",
      "C    1061\n",
      "Name: count, dtype: int64\n",
      "\n",
      "\n",
      "\n",
      "Mode_of_Shipment\n",
      "Ship      4507\n",
      "Flight    1066\n",
      "Road      1020\n",
      "Name: count, dtype: int64\n",
      "\n",
      "\n",
      "\n",
      "Customer_care_calls\n",
      "4     2115\n",
      "3     1919\n",
      "5     1403\n",
      "6      604\n",
      "2      404\n",
      "$7     153\n",
      "Name: count, dtype: int64\n",
      "\n",
      "\n",
      "\n",
      "Product_importance\n",
      "low       3162\n",
      "medium    2866\n",
      "high       570\n",
      "Name: count, dtype: int64\n",
      "\n",
      "\n",
      "\n",
      "Gender\n",
      "F    3311\n",
      "M    3287\n",
      "Name: count, dtype: int64\n",
      "\n",
      "\n",
      "\n"
     ]
    }
   ],
   "source": [
    "for col in train.select_dtypes(include='object').columns:\n",
    "    print(train[col].value_counts())\n",
    "    print('\\n\\n')"
   ]
  },
  {
   "cell_type": "code",
   "execution_count": 143,
   "id": "c5d9b1b2-8520-42ca-9dd6-9af705ad2b01",
   "metadata": {},
   "outputs": [
    {
     "data": {
      "text/html": [
       "<div>\n",
       "<style scoped>\n",
       "    .dataframe tbody tr th:only-of-type {\n",
       "        vertical-align: middle;\n",
       "    }\n",
       "\n",
       "    .dataframe tbody tr th {\n",
       "        vertical-align: top;\n",
       "    }\n",
       "\n",
       "    .dataframe thead th {\n",
       "        text-align: right;\n",
       "    }\n",
       "</style>\n",
       "<table border=\"1\" class=\"dataframe\">\n",
       "  <thead>\n",
       "    <tr style=\"text-align: right;\">\n",
       "      <th></th>\n",
       "      <th>ID</th>\n",
       "      <th>Customer_rating</th>\n",
       "      <th>Cost_of_the_Product</th>\n",
       "      <th>Prior_purchases</th>\n",
       "      <th>Discount_offered</th>\n",
       "      <th>Weight_in_gms</th>\n",
       "      <th>Reached.on.Time_Y.N</th>\n",
       "    </tr>\n",
       "  </thead>\n",
       "  <tbody>\n",
       "    <tr>\n",
       "      <th>count</th>\n",
       "      <td>6598.000000</td>\n",
       "      <td>6598.000000</td>\n",
       "      <td>6595.000000</td>\n",
       "      <td>6598.000000</td>\n",
       "      <td>6598.000000</td>\n",
       "      <td>6598.000000</td>\n",
       "      <td>6598.000000</td>\n",
       "    </tr>\n",
       "    <tr>\n",
       "      <th>mean</th>\n",
       "      <td>5476.977266</td>\n",
       "      <td>2.991361</td>\n",
       "      <td>210.409249</td>\n",
       "      <td>3.577751</td>\n",
       "      <td>13.353592</td>\n",
       "      <td>3604.191119</td>\n",
       "      <td>0.596696</td>\n",
       "    </tr>\n",
       "    <tr>\n",
       "      <th>std</th>\n",
       "      <td>3172.946154</td>\n",
       "      <td>1.409624</td>\n",
       "      <td>48.262527</td>\n",
       "      <td>1.511394</td>\n",
       "      <td>16.187267</td>\n",
       "      <td>1635.697627</td>\n",
       "      <td>0.490598</td>\n",
       "    </tr>\n",
       "    <tr>\n",
       "      <th>min</th>\n",
       "      <td>1.000000</td>\n",
       "      <td>1.000000</td>\n",
       "      <td>96.000000</td>\n",
       "      <td>2.000000</td>\n",
       "      <td>1.000000</td>\n",
       "      <td>1001.000000</td>\n",
       "      <td>0.000000</td>\n",
       "    </tr>\n",
       "    <tr>\n",
       "      <th>25%</th>\n",
       "      <td>2731.250000</td>\n",
       "      <td>2.000000</td>\n",
       "      <td>170.000000</td>\n",
       "      <td>3.000000</td>\n",
       "      <td>4.000000</td>\n",
       "      <td>1834.250000</td>\n",
       "      <td>0.000000</td>\n",
       "    </tr>\n",
       "    <tr>\n",
       "      <th>50%</th>\n",
       "      <td>5476.000000</td>\n",
       "      <td>3.000000</td>\n",
       "      <td>214.000000</td>\n",
       "      <td>3.000000</td>\n",
       "      <td>7.000000</td>\n",
       "      <td>4119.500000</td>\n",
       "      <td>1.000000</td>\n",
       "    </tr>\n",
       "    <tr>\n",
       "      <th>75%</th>\n",
       "      <td>8187.750000</td>\n",
       "      <td>4.000000</td>\n",
       "      <td>251.000000</td>\n",
       "      <td>4.000000</td>\n",
       "      <td>10.000000</td>\n",
       "      <td>5027.500000</td>\n",
       "      <td>1.000000</td>\n",
       "    </tr>\n",
       "    <tr>\n",
       "      <th>max</th>\n",
       "      <td>10998.000000</td>\n",
       "      <td>5.000000</td>\n",
       "      <td>310.000000</td>\n",
       "      <td>10.000000</td>\n",
       "      <td>65.000000</td>\n",
       "      <td>7684.000000</td>\n",
       "      <td>1.000000</td>\n",
       "    </tr>\n",
       "  </tbody>\n",
       "</table>\n",
       "</div>"
      ],
      "text/plain": [
       "                 ID  Customer_rating  Cost_of_the_Product  Prior_purchases  \\\n",
       "count   6598.000000      6598.000000          6595.000000      6598.000000   \n",
       "mean    5476.977266         2.991361           210.409249         3.577751   \n",
       "std     3172.946154         1.409624            48.262527         1.511394   \n",
       "min        1.000000         1.000000            96.000000         2.000000   \n",
       "25%     2731.250000         2.000000           170.000000         3.000000   \n",
       "50%     5476.000000         3.000000           214.000000         3.000000   \n",
       "75%     8187.750000         4.000000           251.000000         4.000000   \n",
       "max    10998.000000         5.000000           310.000000        10.000000   \n",
       "\n",
       "       Discount_offered  Weight_in_gms  Reached.on.Time_Y.N  \n",
       "count       6598.000000    6598.000000          6598.000000  \n",
       "mean          13.353592    3604.191119             0.596696  \n",
       "std           16.187267    1635.697627             0.490598  \n",
       "min            1.000000    1001.000000             0.000000  \n",
       "25%            4.000000    1834.250000             0.000000  \n",
       "50%            7.000000    4119.500000             1.000000  \n",
       "75%           10.000000    5027.500000             1.000000  \n",
       "max           65.000000    7684.000000             1.000000  "
      ]
     },
     "execution_count": 143,
     "metadata": {},
     "output_type": "execute_result"
    }
   ],
   "source": [
    "train.describe()"
   ]
  },
  {
   "cell_type": "code",
   "execution_count": 371,
   "id": "ea667574-8932-4e9c-a785-54fda1e8f799",
   "metadata": {},
   "outputs": [
    {
     "data": {
      "text/plain": [
       "Customer_care_calls\n",
       "4    2115\n",
       "3    1919\n",
       "5    1403\n",
       "6     604\n",
       "2     404\n",
       "7     153\n",
       "Name: count, dtype: int64"
      ]
     },
     "execution_count": 371,
     "metadata": {},
     "output_type": "execute_result"
    }
   ],
   "source": [
    "train_preprocessing = train.copy()\n",
    "train_preprocessing['Customer_care_calls'] = train_preprocessing['Customer_care_calls'].str.replace('$', '')\n",
    "\n",
    "train_preprocessing['Customer_care_calls'].value_counts()"
   ]
  },
  {
   "cell_type": "code",
   "execution_count": 373,
   "id": "1b85060e-cecf-436e-b336-77805fe9ca2b",
   "metadata": {},
   "outputs": [],
   "source": [
    "train_preprocessing['Customer_care_calls'] = train_preprocessing['Customer_care_calls'].astype('int')"
   ]
  },
  {
   "cell_type": "code",
   "execution_count": 375,
   "id": "e35f443f-1b4e-433a-8255-ab1cb114c181",
   "metadata": {},
   "outputs": [
    {
     "name": "stdout",
     "output_type": "stream",
     "text": [
      "<class 'pandas.core.frame.DataFrame'>\n",
      "RangeIndex: 6598 entries, 0 to 6597\n",
      "Data columns (total 12 columns):\n",
      " #   Column               Non-Null Count  Dtype  \n",
      "---  ------               --------------  -----  \n",
      " 0   ID                   6598 non-null   int64  \n",
      " 1   Warehouse_block      6598 non-null   object \n",
      " 2   Mode_of_Shipment     6593 non-null   object \n",
      " 3   Customer_care_calls  6598 non-null   int64  \n",
      " 4   Customer_rating      6598 non-null   int64  \n",
      " 5   Cost_of_the_Product  6595 non-null   float64\n",
      " 6   Prior_purchases      6598 non-null   int64  \n",
      " 7   Product_importance   6598 non-null   object \n",
      " 8   Gender               6598 non-null   object \n",
      " 9   Discount_offered     6598 non-null   int64  \n",
      " 10  Weight_in_gms        6598 non-null   int64  \n",
      " 11  Reached.on.Time_Y.N  6598 non-null   int64  \n",
      "dtypes: float64(1), int64(7), object(4)\n",
      "memory usage: 618.7+ KB\n"
     ]
    }
   ],
   "source": [
    "train_preprocessing.info()"
   ]
  },
  {
   "cell_type": "code",
   "execution_count": 377,
   "id": "727fec17-99c9-4457-aabc-d90022af170e",
   "metadata": {},
   "outputs": [],
   "source": [
    "train_preprocessing['Cost_of_the_Product'] = train_preprocessing['Cost_of_the_Product'].fillna(train_preprocessing['Cost_of_the_Product'].mean())"
   ]
  },
  {
   "cell_type": "code",
   "execution_count": 379,
   "id": "bb06f927-cdfc-4e19-baef-42b50176fe1c",
   "metadata": {},
   "outputs": [],
   "source": [
    "train_preprocessing = train_preprocessing.drop(axis=1, columns=['ID'])"
   ]
  },
  {
   "cell_type": "code",
   "execution_count": 381,
   "id": "9594a421-7249-4b0c-9328-da2acc7ebaf5",
   "metadata": {},
   "outputs": [
    {
     "name": "stdout",
     "output_type": "stream",
     "text": [
      "<class 'pandas.core.frame.DataFrame'>\n",
      "RangeIndex: 6598 entries, 0 to 6597\n",
      "Data columns (total 11 columns):\n",
      " #   Column               Non-Null Count  Dtype  \n",
      "---  ------               --------------  -----  \n",
      " 0   Warehouse_block      6598 non-null   object \n",
      " 1   Mode_of_Shipment     6593 non-null   object \n",
      " 2   Customer_care_calls  6598 non-null   int64  \n",
      " 3   Customer_rating      6598 non-null   int64  \n",
      " 4   Cost_of_the_Product  6598 non-null   float64\n",
      " 5   Prior_purchases      6598 non-null   int64  \n",
      " 6   Product_importance   6598 non-null   object \n",
      " 7   Gender               6598 non-null   object \n",
      " 8   Discount_offered     6598 non-null   int64  \n",
      " 9   Weight_in_gms        6598 non-null   int64  \n",
      " 10  Reached.on.Time_Y.N  6598 non-null   int64  \n",
      "dtypes: float64(1), int64(6), object(4)\n",
      "memory usage: 567.1+ KB\n"
     ]
    }
   ],
   "source": [
    "train_preprocessing.info()"
   ]
  },
  {
   "cell_type": "code",
   "execution_count": 383,
   "id": "d8c1900b-223e-48ba-9b0c-ca749589ee5b",
   "metadata": {},
   "outputs": [
    {
     "name": "stdout",
     "output_type": "stream",
     "text": [
      "<class 'pandas.core.frame.DataFrame'>\n",
      "RangeIndex: 6598 entries, 0 to 6597\n",
      "Data columns (total 11 columns):\n",
      " #   Column               Non-Null Count  Dtype  \n",
      "---  ------               --------------  -----  \n",
      " 0   Warehouse_block      6598 non-null   object \n",
      " 1   Mode_of_Shipment     6598 non-null   object \n",
      " 2   Customer_care_calls  6598 non-null   int64  \n",
      " 3   Customer_rating      6598 non-null   int64  \n",
      " 4   Cost_of_the_Product  6598 non-null   float64\n",
      " 5   Prior_purchases      6598 non-null   int64  \n",
      " 6   Product_importance   6598 non-null   object \n",
      " 7   Gender               6598 non-null   object \n",
      " 8   Discount_offered     6598 non-null   int64  \n",
      " 9   Weight_in_gms        6598 non-null   int64  \n",
      " 10  Reached.on.Time_Y.N  6598 non-null   int64  \n",
      "dtypes: float64(1), int64(6), object(4)\n",
      "memory usage: 567.1+ KB\n"
     ]
    }
   ],
   "source": [
    "train_preprocessing['Mode_of_Shipment'] = train_preprocessing['Mode_of_Shipment'].fillna(train_preprocessing['Mode_of_Shipment'].value_counts().index[0])\n",
    "train_preprocessing.info()"
   ]
  },
  {
   "cell_type": "code",
   "execution_count": 385,
   "id": "c661eaaf-bca4-4f8a-b1c6-18f95640e57d",
   "metadata": {},
   "outputs": [
    {
     "data": {
      "text/plain": [
       "Mode_of_Shipment\n",
       "Ship      4512\n",
       "Flight    1066\n",
       "Road      1020\n",
       "Name: count, dtype: int64"
      ]
     },
     "execution_count": 385,
     "metadata": {},
     "output_type": "execute_result"
    }
   ],
   "source": [
    "train_preprocessing['Mode_of_Shipment'].value_counts()"
   ]
  },
  {
   "cell_type": "code",
   "execution_count": 387,
   "id": "cb704b69-e9e9-4ad9-99df-d916fe6be3d8",
   "metadata": {},
   "outputs": [],
   "source": [
    "from sklearn.model_selection import train_test_split\n",
    "from sklearn.ensemble import RandomForestClassifier\n",
    "from sklearn.metrics import f1_score\n",
    "from sklearn.preprocessing import StandardScaler, LabelEncoder"
   ]
  },
  {
   "cell_type": "code",
   "execution_count": 389,
   "id": "c2f4ab8f-5f57-4e2f-b40b-89b54922a2c4",
   "metadata": {},
   "outputs": [
    {
     "data": {
      "text/plain": [
       "(6598, 15)"
      ]
     },
     "execution_count": 389,
     "metadata": {},
     "output_type": "execute_result"
    }
   ],
   "source": [
    "x=train_preprocessing.drop(columns=['Reached.on.Time_Y.N'])\n",
    "y=train_preprocessing['Reached.on.Time_Y.N']\n",
    "\n",
    "x_dummies = pd.get_dummies(x, drop_first=True)\n",
    "x_dummies.shape"
   ]
  },
  {
   "cell_type": "code",
   "execution_count": 391,
   "id": "b417c620-b9a5-44aa-ac18-989685b585a8",
   "metadata": {},
   "outputs": [],
   "source": [
    "X_train, X_test, y_train, y_test = train_test_split(x_dummies, y, test_size=0.2, random_state=123, stratify=y)"
   ]
  },
  {
   "cell_type": "code",
   "execution_count": 393,
   "id": "350dd53c-c378-4739-926f-d04d1a7f5866",
   "metadata": {},
   "outputs": [
    {
     "data": {
      "text/plain": [
       "array([0, 0, 0, ..., 0, 1, 1])"
      ]
     },
     "execution_count": 393,
     "metadata": {},
     "output_type": "execute_result"
    }
   ],
   "source": [
    "rf=RandomForestClassifier(random_state=0, max_depth=3)\n",
    "rf.fit(X_train, y_train)\n",
    "rf_pred = rf.predict(X_test)\n",
    "rf_train_predict = rf.predict(X_train)\n",
    "rf_pred"
   ]
  },
  {
   "cell_type": "code",
   "execution_count": 395,
   "id": "277c84cf-91c8-4147-99c4-6558c1a76533",
   "metadata": {},
   "outputs": [
    {
     "data": {
      "text/plain": [
       "0.7114882506527415"
      ]
     },
     "execution_count": 395,
     "metadata": {},
     "output_type": "execute_result"
    }
   ],
   "source": [
    "f1_score(y_test, rf_pred)"
   ]
  },
  {
   "cell_type": "code",
   "execution_count": 397,
   "id": "c05fe990-57ca-4be3-a5f5-39fc26b1441b",
   "metadata": {},
   "outputs": [
    {
     "name": "stdout",
     "output_type": "stream",
     "text": [
      "<class 'pandas.core.frame.DataFrame'>\n",
      "RangeIndex: 4401 entries, 0 to 4400\n",
      "Data columns (total 11 columns):\n",
      " #   Column               Non-Null Count  Dtype  \n",
      "---  ------               --------------  -----  \n",
      " 0   ID                   4401 non-null   int64  \n",
      " 1   Warehouse_block      4401 non-null   object \n",
      " 2   Mode_of_Shipment     4401 non-null   object \n",
      " 3   Customer_care_calls  4401 non-null   object \n",
      " 4   Customer_rating      4401 non-null   int64  \n",
      " 5   Cost_of_the_Product  4401 non-null   int64  \n",
      " 6   Prior_purchases      4401 non-null   int64  \n",
      " 7   Product_importance   4401 non-null   object \n",
      " 8   Gender               4401 non-null   object \n",
      " 9   Discount_offered     4401 non-null   float64\n",
      " 10  Weight_in_gms        4401 non-null   int64  \n",
      "dtypes: float64(1), int64(5), object(5)\n",
      "memory usage: 378.3+ KB\n"
     ]
    }
   ],
   "source": [
    "test.info()"
   ]
  },
  {
   "cell_type": "code",
   "execution_count": 399,
   "id": "58b8707f-a43f-4a90-8b74-48c296af1f13",
   "metadata": {},
   "outputs": [
    {
     "name": "stdout",
     "output_type": "stream",
     "text": [
      "Warehouse_block\n",
      "F    1404\n",
      "C     772\n",
      "D     765\n",
      "A     743\n",
      "B     717\n",
      "Name: count, dtype: int64\n",
      "\n",
      "\n",
      "\n",
      "Mode_of_Shipment\n",
      "Ship      2950\n",
      "Road       740\n",
      "Flight     711\n",
      "Name: count, dtype: int64\n",
      "\n",
      "\n",
      "\n",
      "Customer_care_calls\n",
      "4     1442\n",
      "3     1298\n",
      "5      925\n",
      "6      409\n",
      "2      234\n",
      "$7      93\n",
      "Name: count, dtype: int64\n",
      "\n",
      "\n",
      "\n",
      "Product_importance\n",
      "low       2135\n",
      "medium    1888\n",
      "high       378\n",
      "Name: count, dtype: int64\n",
      "\n",
      "\n",
      "\n",
      "Gender\n",
      "F    2234\n",
      "M    2167\n",
      "Name: count, dtype: int64\n",
      "\n",
      "\n",
      "\n"
     ]
    }
   ],
   "source": [
    "test_pre = test.copy()\n",
    "test_pre = test_pre.drop(columns=['ID'])\n",
    "\n",
    "for col in test_pre.select_dtypes(include='object'):\n",
    "    print(test_pre[col].value_counts())\n",
    "    print('\\n''\\n')"
   ]
  },
  {
   "cell_type": "code",
   "execution_count": 401,
   "id": "6759a074-629b-4624-bb82-f456e0ad1627",
   "metadata": {},
   "outputs": [
    {
     "data": {
      "text/plain": [
       "Customer_care_calls\n",
       "4    1442\n",
       "3    1298\n",
       "5     925\n",
       "6     409\n",
       "2     234\n",
       "7      93\n",
       "Name: count, dtype: int64"
      ]
     },
     "execution_count": 401,
     "metadata": {},
     "output_type": "execute_result"
    }
   ],
   "source": [
    "test_pre['Customer_care_calls'] = test_pre['Customer_care_calls'].str.replace('$', '').astype(int)\n",
    "test_pre['Customer_care_calls'].value_counts()"
   ]
  },
  {
   "cell_type": "code",
   "execution_count": 403,
   "id": "7a5ace22-4e35-4a71-be13-42be7876a3bb",
   "metadata": {},
   "outputs": [
    {
     "data": {
      "text/plain": [
       "(4401, 15)"
      ]
     },
     "execution_count": 403,
     "metadata": {},
     "output_type": "execute_result"
    }
   ],
   "source": [
    "test_pre = pd.get_dummies(test_pre,drop_first=True)\n",
    "test_pre.shape"
   ]
  },
  {
   "cell_type": "code",
   "execution_count": 405,
   "id": "6c3c5049-e5bf-460c-ba14-850f6e45f26c",
   "metadata": {},
   "outputs": [
    {
     "data": {
      "text/plain": [
       "array([1, 0, 0, ..., 0, 0, 1])"
      ]
     },
     "execution_count": 405,
     "metadata": {},
     "output_type": "execute_result"
    }
   ],
   "source": [
    "\n",
    "rf_test_pred = rf.predict(test_pre)\n",
    "rf_test_pred"
   ]
  },
  {
   "cell_type": "code",
   "execution_count": 407,
   "id": "16f29a11-20a6-4798-b010-296c0ead436b",
   "metadata": {},
   "outputs": [],
   "source": [
    "rf_test_pred = pd.DataFrame(rf_test_pred, columns=['pred'])\n",
    "rf_test_pred.to_csv('result.csv',index=False)"
   ]
  },
  {
   "cell_type": "code",
   "execution_count": 409,
   "id": "33d516ca-eb69-41ed-8526-672fafa5678f",
   "metadata": {},
   "outputs": [
    {
     "data": {
      "text/html": [
       "<div>\n",
       "<style scoped>\n",
       "    .dataframe tbody tr th:only-of-type {\n",
       "        vertical-align: middle;\n",
       "    }\n",
       "\n",
       "    .dataframe tbody tr th {\n",
       "        vertical-align: top;\n",
       "    }\n",
       "\n",
       "    .dataframe thead th {\n",
       "        text-align: right;\n",
       "    }\n",
       "</style>\n",
       "<table border=\"1\" class=\"dataframe\">\n",
       "  <thead>\n",
       "    <tr style=\"text-align: right;\">\n",
       "      <th></th>\n",
       "      <th>pred</th>\n",
       "    </tr>\n",
       "  </thead>\n",
       "  <tbody>\n",
       "    <tr>\n",
       "      <th>0</th>\n",
       "      <td>1</td>\n",
       "    </tr>\n",
       "    <tr>\n",
       "      <th>1</th>\n",
       "      <td>0</td>\n",
       "    </tr>\n",
       "    <tr>\n",
       "      <th>2</th>\n",
       "      <td>0</td>\n",
       "    </tr>\n",
       "    <tr>\n",
       "      <th>3</th>\n",
       "      <td>0</td>\n",
       "    </tr>\n",
       "    <tr>\n",
       "      <th>4</th>\n",
       "      <td>1</td>\n",
       "    </tr>\n",
       "    <tr>\n",
       "      <th>...</th>\n",
       "      <td>...</td>\n",
       "    </tr>\n",
       "    <tr>\n",
       "      <th>4396</th>\n",
       "      <td>1</td>\n",
       "    </tr>\n",
       "    <tr>\n",
       "      <th>4397</th>\n",
       "      <td>0</td>\n",
       "    </tr>\n",
       "    <tr>\n",
       "      <th>4398</th>\n",
       "      <td>0</td>\n",
       "    </tr>\n",
       "    <tr>\n",
       "      <th>4399</th>\n",
       "      <td>0</td>\n",
       "    </tr>\n",
       "    <tr>\n",
       "      <th>4400</th>\n",
       "      <td>1</td>\n",
       "    </tr>\n",
       "  </tbody>\n",
       "</table>\n",
       "<p>4401 rows × 1 columns</p>\n",
       "</div>"
      ],
      "text/plain": [
       "      pred\n",
       "0        1\n",
       "1        0\n",
       "2        0\n",
       "3        0\n",
       "4        1\n",
       "...    ...\n",
       "4396     1\n",
       "4397     0\n",
       "4398     0\n",
       "4399     0\n",
       "4400     1\n",
       "\n",
       "[4401 rows x 1 columns]"
      ]
     },
     "execution_count": 409,
     "metadata": {},
     "output_type": "execute_result"
    }
   ],
   "source": [
    "pd.read_csv('result.csv')"
   ]
  },
  {
   "cell_type": "code",
   "execution_count": 411,
   "id": "8f27715d-ef09-4c72-8cda-66ffbf49ac87",
   "metadata": {},
   "outputs": [
    {
     "name": "stdout",
     "output_type": "stream",
     "text": [
      "<class 'pandas.core.frame.DataFrame'>\n",
      "RangeIndex: 6598 entries, 0 to 6597\n",
      "Data columns (total 10 columns):\n",
      " #   Column               Non-Null Count  Dtype  \n",
      "---  ------               --------------  -----  \n",
      " 0   Warehouse_block      6598 non-null   object \n",
      " 1   Mode_of_Shipment     6598 non-null   object \n",
      " 2   Customer_care_calls  6598 non-null   int64  \n",
      " 3   Customer_rating      6598 non-null   int64  \n",
      " 4   Cost_of_the_Product  6598 non-null   float64\n",
      " 5   Prior_purchases      6598 non-null   int64  \n",
      " 6   Product_importance   6598 non-null   object \n",
      " 7   Gender               6598 non-null   object \n",
      " 8   Discount_offered     6598 non-null   int64  \n",
      " 9   Weight_in_gms        6598 non-null   int64  \n",
      "dtypes: float64(1), int64(5), object(4)\n",
      "memory usage: 515.6+ KB\n",
      "None\n",
      "Index(['Warehouse_block', 'Mode_of_Shipment', 'Product_importance', 'Gender'], dtype='object')\n"
     ]
    }
   ],
   "source": [
    "##dummy데이터 만들기 대신 라벨링으로 해보기\n",
    "\n",
    "train_pre = x\n",
    "print(train_pre.info())\n",
    "print(train_pre.select_dtypes(include='object').columns)\n"
   ]
  },
  {
   "cell_type": "code",
   "execution_count": 413,
   "id": "206c27cd-9f9a-475e-b5e0-54401b0ced74",
   "metadata": {},
   "outputs": [
    {
     "data": {
      "text/html": [
       "<div>\n",
       "<style scoped>\n",
       "    .dataframe tbody tr th:only-of-type {\n",
       "        vertical-align: middle;\n",
       "    }\n",
       "\n",
       "    .dataframe tbody tr th {\n",
       "        vertical-align: top;\n",
       "    }\n",
       "\n",
       "    .dataframe thead th {\n",
       "        text-align: right;\n",
       "    }\n",
       "</style>\n",
       "<table border=\"1\" class=\"dataframe\">\n",
       "  <thead>\n",
       "    <tr style=\"text-align: right;\">\n",
       "      <th></th>\n",
       "      <th>Warehouse_block</th>\n",
       "      <th>Mode_of_Shipment</th>\n",
       "      <th>Customer_care_calls</th>\n",
       "      <th>Customer_rating</th>\n",
       "      <th>Cost_of_the_Product</th>\n",
       "      <th>Prior_purchases</th>\n",
       "      <th>Product_importance</th>\n",
       "      <th>Gender</th>\n",
       "      <th>Discount_offered</th>\n",
       "      <th>Weight_in_gms</th>\n",
       "    </tr>\n",
       "  </thead>\n",
       "  <tbody>\n",
       "    <tr>\n",
       "      <th>0</th>\n",
       "      <td>0</td>\n",
       "      <td>0</td>\n",
       "      <td>4</td>\n",
       "      <td>3</td>\n",
       "      <td>266.0</td>\n",
       "      <td>5</td>\n",
       "      <td>0</td>\n",
       "      <td>0</td>\n",
       "      <td>5</td>\n",
       "      <td>1590</td>\n",
       "    </tr>\n",
       "    <tr>\n",
       "      <th>1</th>\n",
       "      <td>4</td>\n",
       "      <td>2</td>\n",
       "      <td>3</td>\n",
       "      <td>1</td>\n",
       "      <td>174.0</td>\n",
       "      <td>2</td>\n",
       "      <td>1</td>\n",
       "      <td>1</td>\n",
       "      <td>44</td>\n",
       "      <td>1556</td>\n",
       "    </tr>\n",
       "    <tr>\n",
       "      <th>2</th>\n",
       "      <td>4</td>\n",
       "      <td>1</td>\n",
       "      <td>4</td>\n",
       "      <td>1</td>\n",
       "      <td>154.0</td>\n",
       "      <td>10</td>\n",
       "      <td>0</td>\n",
       "      <td>0</td>\n",
       "      <td>10</td>\n",
       "      <td>5674</td>\n",
       "    </tr>\n",
       "    <tr>\n",
       "      <th>3</th>\n",
       "      <td>4</td>\n",
       "      <td>2</td>\n",
       "      <td>4</td>\n",
       "      <td>3</td>\n",
       "      <td>158.0</td>\n",
       "      <td>3</td>\n",
       "      <td>2</td>\n",
       "      <td>2</td>\n",
       "      <td>27</td>\n",
       "      <td>1207</td>\n",
       "    </tr>\n",
       "    <tr>\n",
       "      <th>4</th>\n",
       "      <td>0</td>\n",
       "      <td>0</td>\n",
       "      <td>5</td>\n",
       "      <td>3</td>\n",
       "      <td>175.0</td>\n",
       "      <td>3</td>\n",
       "      <td>1</td>\n",
       "      <td>1</td>\n",
       "      <td>7</td>\n",
       "      <td>4833</td>\n",
       "    </tr>\n",
       "  </tbody>\n",
       "</table>\n",
       "</div>"
      ],
      "text/plain": [
       "   Warehouse_block  Mode_of_Shipment  Customer_care_calls  Customer_rating  \\\n",
       "0                0                 0                    4                3   \n",
       "1                4                 2                    3                1   \n",
       "2                4                 1                    4                1   \n",
       "3                4                 2                    4                3   \n",
       "4                0                 0                    5                3   \n",
       "\n",
       "   Cost_of_the_Product  Prior_purchases  Product_importance  Gender  \\\n",
       "0                266.0                5                   0       0   \n",
       "1                174.0                2                   1       1   \n",
       "2                154.0               10                   0       0   \n",
       "3                158.0                3                   2       2   \n",
       "4                175.0                3                   1       1   \n",
       "\n",
       "   Discount_offered  Weight_in_gms  \n",
       "0                 5           1590  \n",
       "1                44           1556  \n",
       "2                10           5674  \n",
       "3                27           1207  \n",
       "4                 7           4833  "
      ]
     },
     "execution_count": 413,
     "metadata": {},
     "output_type": "execute_result"
    }
   ],
   "source": [
    "le_Warehouse_block = LabelEncoder()\n",
    "le_Mode_of_Shipment = LabelEncoder()\n",
    "le_Product_importance = LabelEncoder()\n",
    "le_Gender = LabelEncoder()\n",
    "\n",
    "train_pre['Warehouse_block'] = le_Warehouse_block.fit_transform(train_pre['Warehouse_block'])\n",
    "train_pre['Mode_of_Shipment'] = le_Mode_of_Shipment.fit_transform(train_pre['Mode_of_Shipment'])\n",
    "train_pre['Product_importance'] = le_Product_importance.fit_transform(train_pre['Product_importance'])\n",
    "train_pre['Gender'] = le_Gender.fit_transform(train_pre['Product_importance'])\n",
    "\n",
    "train_pre.head()"
   ]
  },
  {
   "cell_type": "code",
   "execution_count": 415,
   "id": "e599a7bc-4fc7-46e6-8da4-ade2a2048546",
   "metadata": {},
   "outputs": [],
   "source": [
    "X_train, X_test, y_train, y_test = train_test_split(train_pre, y, test_size=0.2, random_state=1)\n",
    "\n",
    "rf = RandomForestClassifier(random_state=0, max_depth=3)\n",
    "rf.fit(X_train, y_train)\n",
    "rf_pred = rf.predict(X_test)"
   ]
  },
  {
   "cell_type": "raw",
   "id": "95fe031c-ce82-41bc-a0ec-c168e38e0ccf",
   "metadata": {},
   "source": [
    "f1_score(y_test,rf_pred)"
   ]
  },
  {
   "cell_type": "code",
   "execution_count": 417,
   "id": "7082e92a-ab8e-4f69-9b23-db22fa4f57b7",
   "metadata": {},
   "outputs": [
    {
     "name": "stdout",
     "output_type": "stream",
     "text": [
      "<class 'pandas.core.frame.DataFrame'>\n",
      "RangeIndex: 4401 entries, 0 to 4400\n",
      "Data columns (total 11 columns):\n",
      " #   Column               Non-Null Count  Dtype  \n",
      "---  ------               --------------  -----  \n",
      " 0   ID                   4401 non-null   int64  \n",
      " 1   Warehouse_block      4401 non-null   object \n",
      " 2   Mode_of_Shipment     4401 non-null   object \n",
      " 3   Customer_care_calls  4401 non-null   object \n",
      " 4   Customer_rating      4401 non-null   int64  \n",
      " 5   Cost_of_the_Product  4401 non-null   int64  \n",
      " 6   Prior_purchases      4401 non-null   int64  \n",
      " 7   Product_importance   4401 non-null   object \n",
      " 8   Gender               4401 non-null   object \n",
      " 9   Discount_offered     4401 non-null   float64\n",
      " 10  Weight_in_gms        4401 non-null   int64  \n",
      "dtypes: float64(1), int64(5), object(5)\n",
      "memory usage: 378.3+ KB\n"
     ]
    }
   ],
   "source": [
    "test_pre =test.copy()\n",
    "test_pre.info()"
   ]
  },
  {
   "cell_type": "code",
   "execution_count": 419,
   "id": "7376e68b-98cf-4963-845e-b5ed219761bf",
   "metadata": {},
   "outputs": [
    {
     "name": "stdout",
     "output_type": "stream",
     "text": [
      "<class 'pandas.core.frame.DataFrame'>\n",
      "RangeIndex: 4401 entries, 0 to 4400\n",
      "Data columns (total 10 columns):\n",
      " #   Column               Non-Null Count  Dtype  \n",
      "---  ------               --------------  -----  \n",
      " 0   Warehouse_block      4401 non-null   object \n",
      " 1   Mode_of_Shipment     4401 non-null   object \n",
      " 2   Customer_care_calls  4401 non-null   int64  \n",
      " 3   Customer_rating      4401 non-null   int64  \n",
      " 4   Cost_of_the_Product  4401 non-null   int64  \n",
      " 5   Prior_purchases      4401 non-null   int64  \n",
      " 6   Product_importance   4401 non-null   object \n",
      " 7   Gender               4401 non-null   object \n",
      " 8   Discount_offered     4401 non-null   float64\n",
      " 9   Weight_in_gms        4401 non-null   int64  \n",
      "dtypes: float64(1), int64(5), object(4)\n",
      "memory usage: 344.0+ KB\n"
     ]
    }
   ],
   "source": [
    "test_pre = test_pre.drop(columns=['ID'])\n",
    "test_pre['Customer_care_calls'] = test_pre['Customer_care_calls'].str.replace('$', '').astype(int)\n",
    "test_pre.info()"
   ]
  },
  {
   "cell_type": "code",
   "execution_count": 421,
   "id": "81e3a8d2-8ac5-4997-be5f-17681f8787f5",
   "metadata": {},
   "outputs": [
    {
     "data": {
      "text/html": [
       "<div>\n",
       "<style scoped>\n",
       "    .dataframe tbody tr th:only-of-type {\n",
       "        vertical-align: middle;\n",
       "    }\n",
       "\n",
       "    .dataframe tbody tr th {\n",
       "        vertical-align: top;\n",
       "    }\n",
       "\n",
       "    .dataframe thead th {\n",
       "        text-align: right;\n",
       "    }\n",
       "</style>\n",
       "<table border=\"1\" class=\"dataframe\">\n",
       "  <thead>\n",
       "    <tr style=\"text-align: right;\">\n",
       "      <th></th>\n",
       "      <th>Warehouse_block</th>\n",
       "      <th>Mode_of_Shipment</th>\n",
       "      <th>Customer_care_calls</th>\n",
       "      <th>Customer_rating</th>\n",
       "      <th>Cost_of_the_Product</th>\n",
       "      <th>Prior_purchases</th>\n",
       "      <th>Product_importance</th>\n",
       "      <th>Gender</th>\n",
       "      <th>Discount_offered</th>\n",
       "      <th>Weight_in_gms</th>\n",
       "    </tr>\n",
       "  </thead>\n",
       "  <tbody>\n",
       "    <tr>\n",
       "      <th>0</th>\n",
       "      <td>3</td>\n",
       "      <td>2</td>\n",
       "      <td>5</td>\n",
       "      <td>2</td>\n",
       "      <td>259</td>\n",
       "      <td>5</td>\n",
       "      <td>1</td>\n",
       "      <td>1</td>\n",
       "      <td>7.0</td>\n",
       "      <td>1032</td>\n",
       "    </tr>\n",
       "    <tr>\n",
       "      <th>1</th>\n",
       "      <td>4</td>\n",
       "      <td>2</td>\n",
       "      <td>3</td>\n",
       "      <td>5</td>\n",
       "      <td>133</td>\n",
       "      <td>3</td>\n",
       "      <td>2</td>\n",
       "      <td>2</td>\n",
       "      <td>4.0</td>\n",
       "      <td>5902</td>\n",
       "    </tr>\n",
       "    <tr>\n",
       "      <th>2</th>\n",
       "      <td>4</td>\n",
       "      <td>1</td>\n",
       "      <td>3</td>\n",
       "      <td>4</td>\n",
       "      <td>191</td>\n",
       "      <td>5</td>\n",
       "      <td>2</td>\n",
       "      <td>2</td>\n",
       "      <td>4.0</td>\n",
       "      <td>4243</td>\n",
       "    </tr>\n",
       "    <tr>\n",
       "      <th>3</th>\n",
       "      <td>3</td>\n",
       "      <td>2</td>\n",
       "      <td>4</td>\n",
       "      <td>2</td>\n",
       "      <td>221</td>\n",
       "      <td>3</td>\n",
       "      <td>1</td>\n",
       "      <td>1</td>\n",
       "      <td>10.0</td>\n",
       "      <td>4126</td>\n",
       "    </tr>\n",
       "    <tr>\n",
       "      <th>4</th>\n",
       "      <td>3</td>\n",
       "      <td>0</td>\n",
       "      <td>4</td>\n",
       "      <td>5</td>\n",
       "      <td>230</td>\n",
       "      <td>2</td>\n",
       "      <td>1</td>\n",
       "      <td>1</td>\n",
       "      <td>38.0</td>\n",
       "      <td>2890</td>\n",
       "    </tr>\n",
       "  </tbody>\n",
       "</table>\n",
       "</div>"
      ],
      "text/plain": [
       "   Warehouse_block  Mode_of_Shipment  Customer_care_calls  Customer_rating  \\\n",
       "0                3                 2                    5                2   \n",
       "1                4                 2                    3                5   \n",
       "2                4                 1                    3                4   \n",
       "3                3                 2                    4                2   \n",
       "4                3                 0                    4                5   \n",
       "\n",
       "   Cost_of_the_Product  Prior_purchases  Product_importance  Gender  \\\n",
       "0                  259                5                   1       1   \n",
       "1                  133                3                   2       2   \n",
       "2                  191                5                   2       2   \n",
       "3                  221                3                   1       1   \n",
       "4                  230                2                   1       1   \n",
       "\n",
       "   Discount_offered  Weight_in_gms  \n",
       "0               7.0           1032  \n",
       "1               4.0           5902  \n",
       "2               4.0           4243  \n",
       "3              10.0           4126  \n",
       "4              38.0           2890  "
      ]
     },
     "execution_count": 421,
     "metadata": {},
     "output_type": "execute_result"
    }
   ],
   "source": [
    "test_pre['Warehouse_block'] = le_Warehouse_block.transform(test_pre['Warehouse_block'])\n",
    "test_pre['Mode_of_Shipment'] = le_Mode_of_Shipment.transform(test_pre['Mode_of_Shipment'])\n",
    "test_pre['Product_importance'] = le_Product_importance.transform(test_pre['Product_importance'])\n",
    "test_pre['Gender'] = le_Gender.transform(test_pre['Product_importance'])\n",
    "test_pre.head()\n"
   ]
  },
  {
   "cell_type": "code",
   "execution_count": 439,
   "id": "cdeb8433-1433-420a-a278-02df6cf55672",
   "metadata": {},
   "outputs": [
    {
     "data": {
      "text/plain": [
       "array([1, 0, 0, ..., 0, 0, 1])"
      ]
     },
     "execution_count": 439,
     "metadata": {},
     "output_type": "execute_result"
    }
   ],
   "source": [
    "rf_test_pred = rf.predict(test_pre)\n",
    "rf_test_pred"
   ]
  },
  {
   "cell_type": "code",
   "execution_count": 445,
   "id": "d7c1b483-380a-41a8-9c8c-3c5d52a6899a",
   "metadata": {},
   "outputs": [],
   "source": [
    "df = pd.DataFrame(rf_test_pred,columns=['pred'])\n",
    "df\n",
    "df.to_csv('result.csv',index=False)"
   ]
  },
  {
   "cell_type": "code",
   "execution_count": 453,
   "id": "a4324b80-7a8d-4add-a453-74cb2b5d263f",
   "metadata": {},
   "outputs": [
    {
     "data": {
      "text/html": [
       "<div>\n",
       "<style scoped>\n",
       "    .dataframe tbody tr th:only-of-type {\n",
       "        vertical-align: middle;\n",
       "    }\n",
       "\n",
       "    .dataframe tbody tr th {\n",
       "        vertical-align: top;\n",
       "    }\n",
       "\n",
       "    .dataframe thead th {\n",
       "        text-align: right;\n",
       "    }\n",
       "</style>\n",
       "<table border=\"1\" class=\"dataframe\">\n",
       "  <thead>\n",
       "    <tr style=\"text-align: right;\">\n",
       "      <th></th>\n",
       "      <th>pred</th>\n",
       "    </tr>\n",
       "  </thead>\n",
       "  <tbody>\n",
       "    <tr>\n",
       "      <th>0</th>\n",
       "      <td>1</td>\n",
       "    </tr>\n",
       "    <tr>\n",
       "      <th>1</th>\n",
       "      <td>0</td>\n",
       "    </tr>\n",
       "    <tr>\n",
       "      <th>2</th>\n",
       "      <td>0</td>\n",
       "    </tr>\n",
       "    <tr>\n",
       "      <th>3</th>\n",
       "      <td>0</td>\n",
       "    </tr>\n",
       "    <tr>\n",
       "      <th>4</th>\n",
       "      <td>1</td>\n",
       "    </tr>\n",
       "    <tr>\n",
       "      <th>...</th>\n",
       "      <td>...</td>\n",
       "    </tr>\n",
       "    <tr>\n",
       "      <th>4396</th>\n",
       "      <td>1</td>\n",
       "    </tr>\n",
       "    <tr>\n",
       "      <th>4397</th>\n",
       "      <td>0</td>\n",
       "    </tr>\n",
       "    <tr>\n",
       "      <th>4398</th>\n",
       "      <td>0</td>\n",
       "    </tr>\n",
       "    <tr>\n",
       "      <th>4399</th>\n",
       "      <td>0</td>\n",
       "    </tr>\n",
       "    <tr>\n",
       "      <th>4400</th>\n",
       "      <td>1</td>\n",
       "    </tr>\n",
       "  </tbody>\n",
       "</table>\n",
       "<p>4401 rows × 1 columns</p>\n",
       "</div>"
      ],
      "text/plain": [
       "      pred\n",
       "0        1\n",
       "1        0\n",
       "2        0\n",
       "3        0\n",
       "4        1\n",
       "...    ...\n",
       "4396     1\n",
       "4397     0\n",
       "4398     0\n",
       "4399     0\n",
       "4400     1\n",
       "\n",
       "[4401 rows x 1 columns]"
      ]
     },
     "execution_count": 453,
     "metadata": {},
     "output_type": "execute_result"
    }
   ],
   "source": [
    "df = pd.read_csv('result.csv')\n",
    "df"
   ]
  },
  {
   "cell_type": "code",
   "execution_count": null,
   "id": "04df1a85-7c03-48fd-b5f7-759446143038",
   "metadata": {},
   "outputs": [],
   "source": [
    "#더미화+scaling\n",
    "train_pred = "
   ]
  }
 ],
 "metadata": {
  "kernelspec": {
   "display_name": "Python [conda env:base] *",
   "language": "python",
   "name": "conda-base-py"
  },
  "language_info": {
   "codemirror_mode": {
    "name": "ipython",
    "version": 3
   },
   "file_extension": ".py",
   "mimetype": "text/x-python",
   "name": "python",
   "nbconvert_exporter": "python",
   "pygments_lexer": "ipython3",
   "version": "3.12.2"
  }
 },
 "nbformat": 4,
 "nbformat_minor": 5
}
